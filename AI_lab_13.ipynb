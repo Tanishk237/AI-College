{
  "nbformat": 4,
  "nbformat_minor": 0,
  "metadata": {
    "colab": {
      "provenance": []
    },
    "kernelspec": {
      "name": "python3",
      "display_name": "Python 3"
    },
    "language_info": {
      "name": "python"
    }
  },
  "cells": [
    {
      "cell_type": "code",
      "execution_count": 1,
      "metadata": {
        "id": "4jDyTZyR61oO"
      },
      "outputs": [],
      "source": [
        "from sklearn.datasets import load_breast_cancer\n",
        "from sklearn.model_selection import train_test_split\n",
        "from sklearn.preprocessing import StandardScaler\n",
        "from sklearn.neural_network import MLPClassifier\n",
        "import pandas as pd"
      ]
    },
    {
      "cell_type": "code",
      "source": [
        "X, y = load_breast_cancer(return_X_y=True)"
      ],
      "metadata": {
        "id": "-DMcsVhNHjBj"
      },
      "execution_count": 2,
      "outputs": []
    },
    {
      "cell_type": "code",
      "source": [
        "X_train, X_test, y_train, y_test = train_test_split(\n",
        "    X, y, test_size=0.2, random_state=42\n",
        ")"
      ],
      "metadata": {
        "id": "TE01PY5kHmUA"
      },
      "execution_count": 3,
      "outputs": []
    },
    {
      "cell_type": "code",
      "source": [
        "scaler = StandardScaler()\n",
        "X_train_scaled = scaler.fit_transform(X_train)\n",
        "X_test_scaled = scaler.transform(X_test)"
      ],
      "metadata": {
        "id": "pV_00a20HpY6"
      },
      "execution_count": 4,
      "outputs": []
    },
    {
      "cell_type": "code",
      "source": [
        "experiments = [\n",
        "    {'hidden_layer_sizes': (32,), 'alpha': 1e-4, 'learning_rate_init': 0.001},\n",
        "    {'hidden_layer_sizes': (64,), 'alpha': 1e-4, 'learning_rate_init': 0.001},\n",
        "    {'hidden_layer_sizes': (32, 32), 'alpha': 0.01, 'learning_rate_init': 0.01},\n",
        "    {'hidden_layer_sizes': (64, 64), 'alpha': 0.1, 'learning_rate_init': 0.01},\n",
        "    {'hidden_layer_sizes': (32, 64), 'alpha': 1e-4, 'learning_rate_init': 0.05}\n",
        "]"
      ],
      "metadata": {
        "id": "cXy_moO3Hrod"
      },
      "execution_count": 5,
      "outputs": []
    },
    {
      "cell_type": "code",
      "source": [
        "results = []\n",
        "for params in experiments:\n",
        "    clf = MLPClassifier(\n",
        "        hidden_layer_sizes=params['hidden_layer_sizes'],\n",
        "        alpha=params['alpha'],\n",
        "        learning_rate_init=params['learning_rate_init'],\n",
        "        max_iter=500,\n",
        "        random_state=42\n",
        "    )\n",
        "    clf.fit(X_train_scaled, y_train)\n",
        "    train_acc = clf.score(X_train_scaled, y_train)\n",
        "    test_acc = clf.score(X_test_scaled, y_test)\n",
        "    results.append({\n",
        "        'Hidden Layers': params['hidden_layer_sizes'],\n",
        "        'Alpha (L2)': params['alpha'],\n",
        "        'Learning Rate': params['learning_rate_init'],\n",
        "        'Train Accuracy': train_acc,\n",
        "        'Test Accuracy': test_acc\n",
        "    })"
      ],
      "metadata": {
        "id": "z5rRkih7Htd9"
      },
      "execution_count": 6,
      "outputs": []
    },
    {
      "cell_type": "code",
      "source": [
        "results_df = pd.DataFrame(results)\n",
        "print(results_df)"
      ],
      "metadata": {
        "colab": {
          "base_uri": "https://localhost:8080/"
        },
        "id": "Wn8k2eZVHyyw",
        "outputId": "0e40f6e1-af50-4841-b9e6-897ae6b8da14"
      },
      "execution_count": 7,
      "outputs": [
        {
          "output_type": "stream",
          "name": "stdout",
          "text": [
            "  Hidden Layers  Alpha (L2)  Learning Rate  Train Accuracy  Test Accuracy\n",
            "0         (32,)      0.0001          0.001        0.993407       0.973684\n",
            "1         (64,)      0.0001          0.001        0.997802       0.973684\n",
            "2      (32, 32)      0.0100          0.010        1.000000       0.982456\n",
            "3      (64, 64)      0.1000          0.010        0.997802       0.964912\n",
            "4      (32, 64)      0.0001          0.050        1.000000       0.973684\n"
          ]
        }
      ]
    },
    {
      "cell_type": "code",
      "source": [
        "df_results = pd.DataFrame(results)\n",
        "print(df_results)\n",
        "\n"
      ],
      "metadata": {
        "colab": {
          "base_uri": "https://localhost:8080/"
        },
        "id": "eWxob9yATsmu",
        "outputId": "b6a7ca9c-aec3-4bab-ee40-4d33734a66da"
      },
      "execution_count": 9,
      "outputs": [
        {
          "output_type": "stream",
          "name": "stdout",
          "text": [
            "  Hidden Layers  Alpha (L2)  Learning Rate  Train Accuracy  Test Accuracy\n",
            "0         (32,)      0.0001          0.001        0.993407       0.973684\n",
            "1         (64,)      0.0001          0.001        0.997802       0.973684\n",
            "2      (32, 32)      0.0100          0.010        1.000000       0.982456\n",
            "3      (64, 64)      0.1000          0.010        0.997802       0.964912\n",
            "4      (32, 64)      0.0001          0.050        1.000000       0.973684\n"
          ]
        }
      ]
    },
    {
      "cell_type": "code",
      "source": [
        "print(\"\\nConclusion:\")\n",
        "print(\"1. Larger networks (more hidden layers) generally improve training accuracy but risk overfitting.\")\n",
        "print(\"2. Higher alpha (regularization) can reduce overfitting but may lower training accuracy.\")\n",
        "print(\"3. Learning rate affects convergence: too high may cause instability, too low may slow learning.\")\n",
        "print(\"4. The best performance is achieved with a balanced network size, moderate regularization, and reasonable learning rate.\")"
      ],
      "metadata": {
        "id": "ASVISvlUH18W",
        "colab": {
          "base_uri": "https://localhost:8080/"
        },
        "outputId": "0191ee7c-950b-45fa-ab8f-3570d7007ef8"
      },
      "execution_count": 10,
      "outputs": [
        {
          "output_type": "stream",
          "name": "stdout",
          "text": [
            "\n",
            "Conclusion:\n",
            "1. Larger networks (more hidden layers) generally improve training accuracy but risk overfitting.\n",
            "2. Higher alpha (regularization) can reduce overfitting but may lower training accuracy.\n",
            "3. Learning rate affects convergence: too high may cause instability, too low may slow learning.\n",
            "4. The best performance is achieved with a balanced network size, moderate regularization, and reasonable learning rate.\n"
          ]
        }
      ]
    },
    {
      "cell_type": "code",
      "source": [],
      "metadata": {
        "id": "wzMTXRXPTrog"
      },
      "execution_count": null,
      "outputs": []
    }
  ]
}