{
  "nbformat": 4,
  "nbformat_minor": 0,
  "metadata": {
    "colab": {
      "provenance": []
    },
    "kernelspec": {
      "name": "python3",
      "display_name": "Python 3"
    },
    "language_info": {
      "name": "python"
    }
  },
  "cells": [
    {
      "cell_type": "code",
      "execution_count": 1,
      "metadata": {
        "id": "yrJAS9vtsWNO"
      },
      "outputs": [],
      "source": [
        "# Wine Quality Classification using Random Forest and Decision Tree\n",
        "import pandas as pd\n",
        "import numpy as np\n",
        "from sklearn.model_selection import train_test_split\n",
        "from sklearn.preprocessing import StandardScaler\n",
        "from sklearn.ensemble import RandomForestClassifier\n",
        "from sklearn.tree import DecisionTreeClassifier\n",
        "from sklearn.metrics import confusion_matrix, accuracy_score, precision_score, recall_score, f1_score, classification_report\n",
        "\n"
      ]
    },
    {
      "cell_type": "code",
      "source": [
        "# 1. Read the dataset\n",
        "df = pd.read_csv('winequality-red.csv', sep=';')\n",
        "\n"
      ],
      "metadata": {
        "id": "8mwXm6dqszNh"
      },
      "execution_count": 3,
      "outputs": []
    },
    {
      "cell_type": "code",
      "source": [
        "# 2. Extract Independent (X) and Dependent (y) Variables\n",
        "X = df.drop('quality', axis=1)\n",
        "y = df['quality']\n"
      ],
      "metadata": {
        "id": "28xdzX4us04Q"
      },
      "execution_count": 4,
      "outputs": []
    },
    {
      "cell_type": "code",
      "source": [
        "# 3. Convert quality into three categories: best, average, poor\n",
        "def quality_category(q):\n",
        "\tif q >= 7:\n",
        "\t\treturn 'best'\n",
        "\telif q >= 5:\n",
        "\t\treturn 'average'\n",
        "\telse:\n",
        "\t\treturn 'poor'\n",
        "\n",
        "y_cat = y.apply(quality_category)\n"
      ],
      "metadata": {
        "id": "j1FybRLZs4j-"
      },
      "execution_count": 6,
      "outputs": []
    },
    {
      "cell_type": "code",
      "source": [
        "# 4. Split the dataset (75% train, 25% test)\n",
        "X_train, X_test, y_train, y_test = train_test_split(X, y_cat, test_size=0.25, random_state=42, stratify=y_cat)\n",
        "\n"
      ],
      "metadata": {
        "id": "SEIh4HOOtIWG"
      },
      "execution_count": 7,
      "outputs": []
    },
    {
      "cell_type": "code",
      "source": [
        "# 5. Normalize numerical features\n",
        "scaler = StandardScaler()\n",
        "X_train_scaled = scaler.fit_transform(X_train)\n",
        "X_test_scaled = scaler.transform(X_test)\n",
        "\n"
      ],
      "metadata": {
        "id": "aPYa07jYtQEG"
      },
      "execution_count": 8,
      "outputs": []
    },
    {
      "cell_type": "code",
      "source": [
        "# 6. Build Random Forest classifier\n",
        "rf = RandomForestClassifier(random_state=42)\n",
        "rf.fit(X_train_scaled, y_train)\n",
        "y_pred_rf = rf.predict(X_test_scaled)\n",
        "\n"
      ],
      "metadata": {
        "id": "tf_0XRBLtSRQ"
      },
      "execution_count": 9,
      "outputs": []
    },
    {
      "cell_type": "code",
      "source": [
        "# 7. Confusion matrix for Random Forest\n",
        "print('Random Forest Confusion Matrix:')\n",
        "print(confusion_matrix(y_test, y_pred_rf))\n",
        "\n"
      ],
      "metadata": {
        "colab": {
          "base_uri": "https://localhost:8080/"
        },
        "id": "mur2IKS7tTnN",
        "outputId": "42071ba3-c47d-4b75-e943-9a9da0991ce5"
      },
      "execution_count": 10,
      "outputs": [
        {
          "output_type": "stream",
          "name": "stdout",
          "text": [
            "Random Forest Confusion Matrix:\n",
            "[[315  15   0]\n",
            " [ 19  35   0]\n",
            " [ 16   0   0]]\n"
          ]
        }
      ]
    },
    {
      "cell_type": "code",
      "source": [
        "# 7. Confusion matrix for Random Forest\n",
        "print('Random Forest Confusion Matrix:')\n",
        "print(confusion_matrix(y_test, y_pred_rf))\n",
        "\n"
      ],
      "metadata": {
        "colab": {
          "base_uri": "https://localhost:8080/"
        },
        "id": "G55avhd0tWPJ",
        "outputId": "b40eff3e-0d7e-4517-f115-23022968a140"
      },
      "execution_count": 11,
      "outputs": [
        {
          "output_type": "stream",
          "name": "stdout",
          "text": [
            "Random Forest Confusion Matrix:\n",
            "[[315  15   0]\n",
            " [ 19  35   0]\n",
            " [ 16   0   0]]\n"
          ]
        }
      ]
    },
    {
      "cell_type": "code",
      "source": [
        "# 9. Decision Tree Model for comparison\n",
        "dt = DecisionTreeClassifier(random_state=42)\n",
        "dt.fit(X_train_scaled, y_train)\n",
        "y_pred_dt = dt.predict(X_test_scaled)\n",
        "\n",
        "print('Decision Tree Confusion Matrix:')\n",
        "print(confusion_matrix(y_test, y_pred_dt))\n",
        "\n",
        "print('\\nDecision Tree Classification Report:')\n",
        "print(classification_report(y_test, y_pred_dt))"
      ],
      "metadata": {
        "colab": {
          "base_uri": "https://localhost:8080/"
        },
        "id": "h1EKcfS6tX8y",
        "outputId": "4b6fee20-0920-4caf-f274-b0a30efd3f6d"
      },
      "execution_count": 12,
      "outputs": [
        {
          "output_type": "stream",
          "name": "stdout",
          "text": [
            "Decision Tree Confusion Matrix:\n",
            "[[280  41   9]\n",
            " [ 21  33   0]\n",
            " [ 11   1   4]]\n",
            "\n",
            "Decision Tree Classification Report:\n",
            "              precision    recall  f1-score   support\n",
            "\n",
            "     average       0.90      0.85      0.87       330\n",
            "        best       0.44      0.61      0.51        54\n",
            "        poor       0.31      0.25      0.28        16\n",
            "\n",
            "    accuracy                           0.79       400\n",
            "   macro avg       0.55      0.57      0.55       400\n",
            "weighted avg       0.81      0.79      0.80       400\n",
            "\n"
          ]
        }
      ]
    }
  ]
}