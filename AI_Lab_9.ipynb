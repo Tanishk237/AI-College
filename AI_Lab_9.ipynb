{
  "nbformat": 4,
  "nbformat_minor": 0,
  "metadata": {
    "colab": {
      "provenance": []
    },
    "kernelspec": {
      "name": "python3",
      "display_name": "Python 3"
    },
    "language_info": {
      "name": "python"
    }
  },
  "cells": [
    {
      "cell_type": "code",
      "source": [
        "import pandas as pd\n",
        "import numpy as np\n",
        "from sklearn.feature_selection import chi2\n",
        "from sklearn.model_selection import train_test_split\n",
        "from sklearn.tree import DecisionTreeClassifier\n",
        "from sklearn.metrics import confusion_matrix, accuracy_score, precision_score, recall_score\n",
        "import matplotlib.pyplot as plt\n",
        "import seaborn as sns"
      ],
      "metadata": {
        "id": "dilcTjXKRYrC"
      },
      "execution_count": 1,
      "outputs": []
    },
    {
      "cell_type": "code",
      "source": [
        "# 1. Data Pre-processing step\n",
        "\n",
        "# a) Read Raisin_Dataset from Excel file using Pandas and display First 5 rows\n",
        "raisin_df = pd.read_excel('/content/Raisin_Dataset.xlsx')  # Changed from read_csv to read_excel\n",
        "print(\"First 5 rows of the dataset:\")\n",
        "print(raisin_df.head())\n",
        "print(\"\\nDataset shape:\", raisin_df.shape)\n",
        "print(\"\\nDataset info:\")\n",
        "print(raisin_df.info())"
      ],
      "metadata": {
        "colab": {
          "base_uri": "https://localhost:8080/"
        },
        "id": "Ti5hFnD-V3FY",
        "outputId": "02c17483-53d9-45bf-b3da-ec8c98322dd8"
      },
      "execution_count": 3,
      "outputs": [
        {
          "output_type": "stream",
          "name": "stdout",
          "text": [
            "First 5 rows of the dataset:\n",
            "    Area  MajorAxisLength  MinorAxisLength  Eccentricity  ConvexArea  \\\n",
            "0  87524       442.246011       253.291155      0.819738       90546   \n",
            "1  75166       406.690687       243.032436      0.801805       78789   \n",
            "2  90856       442.267048       266.328318      0.798354       93717   \n",
            "3  45928       286.540559       208.760042      0.684989       47336   \n",
            "4  79408       352.190770       290.827533      0.564011       81463   \n",
            "\n",
            "     Extent  Perimeter    Class  \n",
            "0  0.758651   1184.040  Kecimen  \n",
            "1  0.684130   1121.786  Kecimen  \n",
            "2  0.637613   1208.575  Kecimen  \n",
            "3  0.699599    844.162  Kecimen  \n",
            "4  0.792772   1073.251  Kecimen  \n",
            "\n",
            "Dataset shape: (900, 8)\n",
            "\n",
            "Dataset info:\n",
            "<class 'pandas.core.frame.DataFrame'>\n",
            "RangeIndex: 900 entries, 0 to 899\n",
            "Data columns (total 8 columns):\n",
            " #   Column           Non-Null Count  Dtype  \n",
            "---  ------           --------------  -----  \n",
            " 0   Area             900 non-null    int64  \n",
            " 1   MajorAxisLength  900 non-null    float64\n",
            " 2   MinorAxisLength  900 non-null    float64\n",
            " 3   Eccentricity     900 non-null    float64\n",
            " 4   ConvexArea       900 non-null    int64  \n",
            " 5   Extent           900 non-null    float64\n",
            " 6   Perimeter        900 non-null    float64\n",
            " 7   Class            900 non-null    object \n",
            "dtypes: float64(5), int64(2), object(1)\n",
            "memory usage: 56.4+ KB\n",
            "None\n"
          ]
        }
      ]
    },
    {
      "cell_type": "code",
      "source": [
        "\n",
        "# b) Check the presence of Null Values/Missing Values\n",
        "print(\"\\nChecking for missing values:\")\n",
        "missing_values = raisin_df.isnull().sum()\n",
        "print(missing_values)\n",
        "\n",
        "# Handle missing values if present\n",
        "if missing_values.any():\n",
        "    print(\"\\nHandling missing values...\")\n",
        "    # Option 1: Drop rows with missing values\n",
        "    # raisin_df = raisin_df.dropna()\n",
        "\n",
        "    # Option 2: Fill with mean for numerical columns\n",
        "    for column in raisin_df.select_dtypes(include=[np.number]).columns:\n",
        "        if raisin_df[column].isnull().any():\n",
        "            raisin_df[column].fillna(raisin_df[column].mean(), inplace=True)\n",
        "\n",
        "    print(\"Missing values handled.\")\n",
        "else:\n",
        "    print(\"No missing values found.\")\n"
      ],
      "metadata": {
        "colab": {
          "base_uri": "https://localhost:8080/"
        },
        "id": "d66JXn0UWHl4",
        "outputId": "5f1b45c2-193b-4d47-ef36-39c84083db12"
      },
      "execution_count": 4,
      "outputs": [
        {
          "output_type": "stream",
          "name": "stdout",
          "text": [
            "\n",
            "Checking for missing values:\n",
            "Area               0\n",
            "MajorAxisLength    0\n",
            "MinorAxisLength    0\n",
            "Eccentricity       0\n",
            "ConvexArea         0\n",
            "Extent             0\n",
            "Perimeter          0\n",
            "Class              0\n",
            "dtype: int64\n",
            "No missing values found.\n"
          ]
        }
      ]
    },
    {
      "cell_type": "code",
      "source": [
        "\n",
        "# c) Convert the Class value into discrete: Kecimen as '0' and Besni raisin as '1' class\n",
        "print(\"\\nClass distribution before conversion:\")\n",
        "print(raisin_df['Class'].value_counts())\n",
        "\n",
        "raisin_df['Class'] = raisin_df['Class'].map({'Kecimen': 0, 'Besni': 1})\n",
        "print(\"\\nClass distribution after conversion:\")\n",
        "print(raisin_df['Class'].value_counts())"
      ],
      "metadata": {
        "colab": {
          "base_uri": "https://localhost:8080/"
        },
        "id": "LdC5ng1nWKO3",
        "outputId": "d2afdd10-c887-4c07-b211-60fd1c9cf1c9"
      },
      "execution_count": 5,
      "outputs": [
        {
          "output_type": "stream",
          "name": "stdout",
          "text": [
            "\n",
            "Class distribution before conversion:\n",
            "Class\n",
            "Kecimen    450\n",
            "Besni      450\n",
            "Name: count, dtype: int64\n",
            "\n",
            "Class distribution after conversion:\n",
            "Class\n",
            "0    450\n",
            "1    450\n",
            "Name: count, dtype: int64\n"
          ]
        }
      ]
    },
    {
      "cell_type": "code",
      "source": [
        "# d) Check Feature importance using Chi-Square\n",
        "X = raisin_df.drop('Class', axis=1)\n",
        "y = raisin_df['Class']\n",
        "\n",
        "print(\"\\nFeature names:\")\n",
        "print(X.columns.tolist())\n",
        "\n",
        "# Chi-square test for feature selection\n",
        "chi_scores, p_values = chi2(X, y)\n",
        "\n",
        "# Create feature importance dataframe\n",
        "feature_importance_df = pd.DataFrame({\n",
        "    'Feature': X.columns,\n",
        "    'Chi2_Score': chi_scores,\n",
        "    'p_value': p_values\n",
        "})\n",
        "\n",
        "# Sort by Chi2 score\n",
        "feature_importance_df = feature_importance_df.sort_values('Chi2_Score', ascending=False)\n",
        "print(\"\\nFeature importance (Chi-Square test):\")\n",
        "print(feature_importance_df)\n"
      ],
      "metadata": {
        "colab": {
          "base_uri": "https://localhost:8080/"
        },
        "id": "idQdbwAAWUMH",
        "outputId": "baa3e8a6-f00b-40fa-c696-6be36ae38ed3"
      },
      "execution_count": 6,
      "outputs": [
        {
          "output_type": "stream",
          "name": "stdout",
          "text": [
            "\n",
            "Feature names:\n",
            "['Area', 'MajorAxisLength', 'MinorAxisLength', 'Eccentricity', 'ConvexArea', 'Extent', 'Perimeter']\n",
            "\n",
            "Feature importance (Chi-Square test):\n",
            "           Feature    Chi2_Score   p_value\n",
            "4       ConvexArea  6.412753e+06  0.000000\n",
            "0             Area  6.097822e+06  0.000000\n",
            "6        Perimeter  2.563142e+04  0.000000\n",
            "1  MajorAxisLength  1.272952e+04  0.000000\n",
            "2  MinorAxisLength  2.234351e+03  0.000000\n",
            "3     Eccentricity  1.804260e+00  0.179198\n",
            "5           Extent  8.791728e-02  0.766842\n"
          ]
        }
      ]
    },
    {
      "cell_type": "code",
      "source": [
        "\n",
        "# e) Discard the least important features using chi-square value\n",
        "# Method 1: Keep features above median chi2 score\n",
        "threshold = feature_importance_df['Chi2_Score'].median()\n",
        "features_to_keep = feature_importance_df[feature_importance_df['Chi2_Score'] >= threshold]['Feature'].tolist()\n",
        "\n",
        "# Alternative Method 2: Keep top N features (e.g., top 5)\n",
        "# features_to_keep = feature_importance_df.head(5)['Feature'].tolist()\n",
        "\n",
        "print(f\"\\nThreshold (median chi2 score): {threshold:.4f}\")\n",
        "print(f\"Features to keep: {features_to_keep}\")\n",
        "print(f\"Features discarded: {[f for f in X.columns if f not in features_to_keep]}\")\n",
        "\n",
        "# Select important features\n",
        "X_selected = X[features_to_keep]\n",
        "print(f\"\\nSelected features shape: {X_selected.shape}\")\n"
      ],
      "metadata": {
        "colab": {
          "base_uri": "https://localhost:8080/"
        },
        "id": "mUmQAAlcWakN",
        "outputId": "23727f25-e9cd-4306-e44a-e665bb6e64f5"
      },
      "execution_count": 7,
      "outputs": [
        {
          "output_type": "stream",
          "name": "stdout",
          "text": [
            "\n",
            "Threshold (median chi2 score): 12729.5190\n",
            "Features to keep: ['ConvexArea', 'Area', 'Perimeter', 'MajorAxisLength']\n",
            "Features discarded: ['MinorAxisLength', 'Eccentricity', 'Extent']\n",
            "\n",
            "Selected features shape: (900, 4)\n"
          ]
        }
      ]
    },
    {
      "cell_type": "code",
      "source": [
        "\n",
        "\n",
        "# 2. Split the dataset into 80% for training and rest 20% for testing\n",
        "X_train, X_test, y_train, y_test = train_test_split(\n",
        "    X_selected, y, test_size=0.2, random_state=42, stratify=y\n",
        ")\n",
        "\n",
        "print(f\"\\nTrain set shape: {X_train.shape}\")\n",
        "print(f\"Test set shape: {X_test.shape}\")\n",
        "print(f\"Train class distribution: {pd.Series(y_train).value_counts()}\")\n",
        "print(f\"Test class distribution: {pd.Series(y_test).value_counts()}\")"
      ],
      "metadata": {
        "colab": {
          "base_uri": "https://localhost:8080/"
        },
        "id": "lP1p964rWbWd",
        "outputId": "0cee561b-f7c0-4c5e-b205-42e7e5ef67d1"
      },
      "execution_count": 8,
      "outputs": [
        {
          "output_type": "stream",
          "name": "stdout",
          "text": [
            "\n",
            "Train set shape: (720, 4)\n",
            "Test set shape: (180, 4)\n",
            "Train class distribution: Class\n",
            "0    360\n",
            "1    360\n",
            "Name: count, dtype: int64\n",
            "Test class distribution: Class\n",
            "0    90\n",
            "1    90\n",
            "Name: count, dtype: int64\n"
          ]
        }
      ]
    },
    {
      "cell_type": "code",
      "source": [
        "# 3. Train DT classifier using built-in function with default parameters\n",
        "dt_classifier = DecisionTreeClassifier(random_state=42)\n",
        "dt_classifier.fit(X_train, y_train)\n",
        "\n",
        "print(\"\\nDecision Tree Classifier trained successfully!\")\n",
        "print(f\"Tree depth: {dt_classifier.get_depth()}\")\n",
        "print(f\"Number of leaves: {dt_classifier.get_n_leaves()}\")\n"
      ],
      "metadata": {
        "colab": {
          "base_uri": "https://localhost:8080/"
        },
        "id": "bvr7hilSWf3h",
        "outputId": "121b710c-9eae-4cb6-aa98-0c1090b45caa"
      },
      "execution_count": 9,
      "outputs": [
        {
          "output_type": "stream",
          "name": "stdout",
          "text": [
            "\n",
            "Decision Tree Classifier trained successfully!\n",
            "Tree depth: 13\n",
            "Number of leaves: 103\n"
          ]
        }
      ]
    },
    {
      "cell_type": "code",
      "source": [
        "# 4. Evaluate the trained model using test set\n",
        "# Make predictions\n",
        "y_pred = dt_classifier.predict(X_test)\n",
        "\n",
        "# Calculate metrics\n",
        "conf_matrix = confusion_matrix(y_test, y_pred)\n",
        "accuracy = accuracy_score(y_test, y_pred)\n",
        "precision = precision_score(y_test, y_pred, average='binary')\n",
        "recall = recall_score(y_test, y_pred, average='binary')\n",
        "\n",
        "print(\"\\n\" + \"=\"*50)\n",
        "print(\"MODEL EVALUATION RESULTS\")\n",
        "print(\"=\"*50)\n",
        "\n",
        "print(f\"\\nConfusion Matrix:\")\n",
        "print(conf_matrix)\n",
        "\n",
        "print(f\"\\nPerformance Metrics:\")\n",
        "print(f\"Accuracy:  {accuracy:.4f} ({accuracy*100:.2f}%)\")\n",
        "print(f\"Precision: {precision:.4f} ({precision*100:.2f}%)\")\n",
        "print(f\"Recall:    {recall:.4f} ({recall*100:.2f}%)\")\n",
        "\n",
        "# Additional metrics breakdown\n",
        "print(f\"\\nDetailed Classification Report:\")\n",
        "from sklearn.metrics import classification_report\n",
        "print(classification_report(y_test, y_pred, target_names=['Kecimen', 'Besni']))\n"
      ],
      "metadata": {
        "colab": {
          "base_uri": "https://localhost:8080/"
        },
        "id": "p0iieAffWikK",
        "outputId": "c1140c11-0494-4881-8116-60c675f271da"
      },
      "execution_count": 10,
      "outputs": [
        {
          "output_type": "stream",
          "name": "stdout",
          "text": [
            "\n",
            "==================================================\n",
            "MODEL EVALUATION RESULTS\n",
            "==================================================\n",
            "\n",
            "Confusion Matrix:\n",
            "[[77 13]\n",
            " [21 69]]\n",
            "\n",
            "Performance Metrics:\n",
            "Accuracy:  0.8111 (81.11%)\n",
            "Precision: 0.8415 (84.15%)\n",
            "Recall:    0.7667 (76.67%)\n",
            "\n",
            "Detailed Classification Report:\n",
            "              precision    recall  f1-score   support\n",
            "\n",
            "     Kecimen       0.79      0.86      0.82        90\n",
            "       Besni       0.84      0.77      0.80        90\n",
            "\n",
            "    accuracy                           0.81       180\n",
            "   macro avg       0.81      0.81      0.81       180\n",
            "weighted avg       0.81      0.81      0.81       180\n",
            "\n"
          ]
        }
      ]
    },
    {
      "cell_type": "code",
      "source": [
        "\n",
        "# 5. Compare the results using suitable chart\n",
        "# Prepare data for visualization\n",
        "metrics_data = {\n",
        "    'Metric': ['Accuracy', 'Precision', 'Recall'],\n",
        "    'Score': [accuracy, precision, recall]\n",
        "}\n",
        "\n",
        "metrics_df = pd.DataFrame(metrics_data)\n",
        "print(f\"\\nMetrics Summary:\")\n",
        "print(metrics_df)\n",
        "\n",
        "# Create visualization using matplotlib\n",
        "plt.figure(figsize=(10, 6))\n",
        "bars = plt.bar(metrics_df['Metric'], metrics_df['Score'],\n",
        "               color=['#2E8B57', '#FF6347', '#4682B4'], alpha=0.8)\n",
        "\n",
        "# Add value labels on bars\n",
        "for bar in bars:\n",
        "    height = bar.get_height()\n",
        "    plt.text(bar.get_x() + bar.get_width()/2., height + 0.01,\n",
        "             f'{height:.4f}', ha='center', va='bottom', fontweight='bold')\n",
        "\n",
        "plt.ylim(0, 1.1)\n",
        "plt.ylabel('Score', fontsize=12)\n",
        "plt.xlabel('Metrics', fontsize=12)\n",
        "plt.title('Decision Tree Classifier Performance Metrics\\n(Raisin Classification)',\n",
        "          fontsize=14, fontweight='bold')\n",
        "plt.grid(axis='y', alpha=0.3)\n",
        "\n",
        "# Add horizontal line at 0.5 for reference\n",
        "plt.axhline(y=0.5, color='red', linestyle='--', alpha=0.7, label='Random Classifier')\n",
        "plt.legend()\n",
        "\n",
        "plt.tight_layout()\n",
        "plt.show()\n",
        "\n",
        "# Additional visualization: Confusion Matrix Heatmap\n",
        "plt.figure(figsize=(8, 6))\n",
        "sns.heatmap(conf_matrix, annot=True, fmt='d', cmap='Greens',\n",
        "            xticklabels=['Kecimen', 'Besni'],\n",
        "            yticklabels=['Kecimen', 'Besni'])\n",
        "plt.ylabel('True Label')\n",
        "plt.xlabel('Predicted Label')\n",
        "plt.title('Confusion Matrix - Decision Tree Classifier')\n",
        "plt.show()\n",
        "\n",
        "# Feature importance from the trained model\n",
        "feature_importances = dt_classifier.feature_importances_\n",
        "feature_imp_df = pd.DataFrame({\n",
        "    'Feature': features_to_keep,\n",
        "    'Importance': feature_importances\n",
        "}).sort_values('Importance', ascending=False)\n",
        "\n",
        "print(f\"\\nFeature Importance from Trained Decision Tree:\")\n",
        "print(feature_imp_df)\n",
        "\n",
        "# Save results to CSV\n",
        "results_summary = pd.DataFrame({\n",
        "    'Metric': ['Accuracy', 'Precision', 'Recall'],\n",
        "    'Score': [accuracy, precision, recall]\n",
        "})\n",
        "results_summary.to_csv('raisin_classification_results.csv', index=False)\n",
        "print(f\"\\nResults saved to 'raisin_classification_results.csv'\")\n",
        "\n",
        "# Optional: Save the processed dataset to Excel\n",
        "raisin_df.to_excel('processed_raisin_dataset.xlsx', index=False)\n",
        "print(f\"Processed dataset saved to 'processed_raisin_dataset.xlsx'\")\n"
      ],
      "metadata": {
        "colab": {
          "base_uri": "https://localhost:8080/",
          "height": 1000
        },
        "id": "IlYmw3MqWoNI",
        "outputId": "03aebc9c-0a6f-43d6-b2d0-07c2919f24c0"
      },
      "execution_count": 12,
      "outputs": [
        {
          "output_type": "stream",
          "name": "stdout",
          "text": [
            "\n",
            "Metrics Summary:\n",
            "      Metric     Score\n",
            "0   Accuracy  0.811111\n",
            "1  Precision  0.841463\n",
            "2     Recall  0.766667\n"
          ]
        },
        {
          "output_type": "display_data",
          "data": {
            "text/plain": [
              "<Figure size 1000x600 with 1 Axes>"
            ],
            "image/png": "[encoded data removed]"
          },
          "metadata": {}
        },
        {
          "output_type": "display_data",
          "data": {
            "text/plain": [
              "<Figure size 800x600 with 2 Axes>"
            ],
            "image/png": "[encoded data removed]"
          },
          "metadata": {}
        },
        {
          "output_type": "stream",
          "name": "stdout",
          "text": [
            "\n",
            "Feature Importance from Trained Decision Tree:\n",
            "           Feature  Importance\n",
            "3  MajorAxisLength    0.643987\n",
            "2        Perimeter    0.147377\n",
            "1             Area    0.121514\n",
            "0       ConvexArea    0.087122\n",
            "\n",
            "Results saved to 'raisin_classification_results.csv'\n",
            "Processed dataset saved to 'processed_raisin_dataset.xlsx'\n"
          ]
        }
      ]
    }
  ]
}